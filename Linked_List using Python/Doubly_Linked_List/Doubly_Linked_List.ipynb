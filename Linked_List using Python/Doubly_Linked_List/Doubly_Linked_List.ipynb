class DNode:
    def __init__(self, NewData=None, plink=None, nlink=None):
        self.data = NewData
        self.previous = plink
        self.next = nlink


class DoublyLinkedList:
    def __init__(self):
        self.Head = None

    def insert_end(self, newData):
        newNode = DNode(newData)
        if self.Head is None:
            self.Head = newNode
        else:
            curNode = self.Head
            while curNode.next is not None:
                curNode = curNode.next
            curNode.next = newNode
            newNode.previous = curNode
        return "Node inserted at the end successfully."

    def insert_begin(self, newData):
        newNode = DNode(newData, None, self.Head)
        if self.Head is not None:
            self.Head.previous = newNode
        self.Head = newNode
        return "Node inserted at the beginning successfully."

    def insert_before_nth(self, newData, location):
        # Validate position
        if location <= 0:
            return "Invalid position. Position must be greater than 0."

        newNode = DNode(newData)
        if self.Head is None or location == 1:
            if self.Head is None:
                self.Head.previous = newNode
            newNode.next = self.Head
            self.Head = newNode
            return "Node inserted before the specified position successfully."
        else:
            curNode = self.Head
            c = 1
            while c <= location - 2 and curNode.next is not None:
                c += 1
                curNode = curNode.next

            if curNode is None:
                return "Position out of bounds."

            newNode.previous = curNode
            if curNode.next is not None:
                curNode.next.previous = newNode
            newNode.next = curNode.next
            curNode.next = newNode
            return "Node inserted before the specified position successfully."

    def insert_after_nth(self, newData, location):
        # Validate position
        if location <= 0:
            return "Invalid position. Position must be greater than 0."

        newNode = DNode(newData)
        if self.Head is None:
            self.Head = newNode
            return "Node inserted successfully."
        else:
            curNode = self.Head
            c = 1
            while c < location and curNode.next is not None:
                c += 1
                curNode = curNode.next

            if curNode is None:
                return "Position out of bounds."

            newNode.previous = curNode
            newNode.next = curNode.next
            if curNode.next is not None:
                curNode.next.previous = newNode
            curNode.next = newNode
            return "Node inserted after the specified position successfully."

    def delete_first(self):
        if self.Head is None:
            return "Empty List. Deletion not possible..."
        else:
            curNode = self.Head
            self.Head = self.Head.next
            if self.Head is not None:
                self.Head.previous = None
            return "Node Deleted Successfully..."

    def delete_last(self):
        if self.Head is None:
            return "Empty List. Deletion not possible."
        elif self.Head.next is None:
            self.Head = None
            return "Node Deleted Successfully..."
        else:
            curNode = self.Head
            while curNode.next.next is not None:
                curNode = curNode.next
            curNode.next = None
            return "Node Deleted Successfully..."

    def delete_nth(self, posn):
        # Validate position
        if posn <= 0:
            return "Invalid position. Position must be greater than 0."

        if self.Head is None:
            return "Empty List. Deletion not possible..."
        else:
            curNode = self.Head
            if posn == 1:
                self.Head = curNode.next
                if self.Head is not None:
                    self.Head.previous = None
                return "Node Deleted Successfully..."
            else:
                c = 1
                while c < posn and curNode.next is not None:
                    c += 1
                    curNode = curNode.next
                if curNode is None:
                    return "Position out of bounds."
                if curNode.next is not None:
                    curNode.next.previous = curNode.previous
                if curNode.previous is not None:
                    curNode.previous.next = curNode.next
                return "Node Deleted Successfully..."

    def display(self):
        if self.Head is None:
            return "Empty List."
        else:
            curNode = self.Head
            result = []
            while curNode is not None:
                result.append(curNode.data)
                curNode = curNode.next
            return "None " + " ".join(map(str, result)) + " None"

    def rev_display(self):
        if self.Head is None:
            return "Empty List."
        else:
            curNode = self.Head
            while curNode.next is not None:
                curNode = curNode.next
            result = []
            while curNode is not None:
                result.append(curNode.data)
                curNode = curNode.previous
            return "None " + " ".join(map(str, result)) + " None"


# Main program to test the implementation
head = DoublyLinkedList()
while True:
    print("\n Program to implement double linked list")
    print("====================================================")
    print("1. Create/Appending the list")
    print("2. Insert Node at beginning")
    print("3. Insert Node at Nth Position")
    print("4. Insert Node after Nth node")
    print("5. Delete First Node")
    print("6. Delete Last Node")
    print("7. Delete Nth node")
    print("8. Displaying the list")
    print("9. Displaying the list in reverse order")
    print("10. Exit")
    print("===================================================")
    choice = int(input("Enter your choice: "))
    if choice == 1:
        opt = 'Y'
        while opt.upper() == 'Y':
            num = int(input("Enter the data: "))
            print(head.insert_end(num))
            opt = input("Enter more (y/n): ")
    elif choice == 2:
        num = int(input("Enter the data: "))
        print(head.insert_begin(num))
    elif choice == 3:
        loc = int(input("Enter the node number before which new node will be inserted: "))
        num = int(input("Enter the data: "))
        print(head.insert_before_nth(num, loc))
    elif choice == 4:
        loc = int(input("Enter the Node number after which new node will be inserted: "))
        num = int(input("Enter the data: "))
        print(head.insert_after_nth(num, loc))
    elif choice == 5:
        print(head.delete_first())
    elif choice == 6:
        print(head.delete_last())
    elif choice == 7:
        num = int(input("Enter the node number you want to delete: "))
        print(head.delete_nth(num))
    elif choice == 8:
        print(head.display())
    elif choice == 9:
        print(head.rev_display())
    elif choice == 10:
        print("\nQuitting.....")
        break
    else:
        print("Invalid choice. Please Enter Correct choice")
        continue

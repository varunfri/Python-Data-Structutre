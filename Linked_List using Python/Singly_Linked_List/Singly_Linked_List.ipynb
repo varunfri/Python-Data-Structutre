class Node:
    def __init__(self, newData=None, link=None):
        self.data = newData
        self.next = link

class SingleLinkedList:
    def __init__(self):
        self.Head = None

    def insert_end(self, newData):
        newNode = Node(newData)
        if self.Head is None:
            self.Head = newNode
        else:
            curNode = self.Head
            while curNode.next is not None:
                curNode = curNode.next
            curNode.next = newNode

    # Function to insert a node at the beginning of the list
    def insert_begin(self, newData):
        self.Head = Node(newData, self.Head)

    def insert_before_nth(self, newData, location):
        if self.Head is None or location == 1:
            self.Head = Node(newData, self.Head)
        else:
            curNode = self.Head
            c = 1
            while c < location - 1 and curNode.next is not None:
                c += 1
                curNode = curNode.next
            newNode = Node(newData, curNode.next)
            curNode.next = newNode

    def insert_after_nth(self, newData, location):
        if self.Head is None:
            self.Head = Node(newData, self.Head)
        else:
            curNode = self.Head
            c = 1
            while c < location and curNode.next is not None:
                c += 1
                curNode = curNode.next
            curNode.next = Node(newData, curNode.next)

    def delete_first(self):
        if self.Head is None:
            print("Empty list. Deletion not possible")
        else:
            curNode = self.Head
            self.Head = self.Head.next
            del(curNode)
            print("Node Deleted Successfully")

    def delete_last(self):
        if self.Head is None:
            print("Empty list. Deletion not possible")
        elif self.Head.next is None:
            del(self.Head)
            self.Head = None
        else:
            curNode = self.Head
            while curNode.next.next is not None:
                curNode = curNode.next
            del(curNode.next)
            curNode.next = None
            print("Node Deleted Successfully")

    def delete_anynode(self, num):
        if self.Head is None:
            print("Empty list. Deletion not possible")
        else:
            curNode = self.Head
            if curNode.data == num:
                self.Head = self.Head.next
                del(curNode)
                print("Node Deleted successfully")
            else:
                flag = 0
                prev = None
                while curNode is not None:
                    if curNode.data == num:
                        flag = 1
                        break
                    prev = curNode
                    curNode = curNode.next
                if flag == 0:
                    print("Node not found")
                else:
                    prev.next = curNode.next
                    del(curNode)
                    print("Node deleted successfully")

    def display(self):
        if self.Head is None:
            print("Empty List")
        else:
            curNode = self.Head
            while curNode is not None:
                print(curNode.data, end=" --> ")
                curNode = curNode.next
            print("None")


head = SingleLinkedList()
while True:
    print("\nProgram to implement Linked list")
    print("1. Create/appending the list")
    print("2. Insert Node at the beginning")
    print("3. Insert Node before Nth node")
    print("4. Insert Node after Nth node")
    print("5. Delete first node")
    print("6. Delete last node")
    print("7. Delete the node whose data matches with given data")
    print("8. Displaying the list")
    print("9. Exit")
    print("---------------------------------------------------------")
    choice = int(input("Enter your choice: "))
    if choice == 1:
        opt = 'Y'
        while opt.upper() == 'Y':
            num = int(input("Enter the Data: "))
            head.insert_end(num)
            opt = input("Enter more(Y/N): ")
    elif choice == 2:
        num = int(input("Enter the Data: "))
        head.insert_begin(num)
    elif choice == 3:
        loc = int(input("Enter the node number before which new node will be inserted: "))
        num = int(input("Enter the data: "))
        head.insert_before_nth(num, loc)
    elif choice == 4:
        loc = int(input("Enter the node number after which new node will be inserted: "))
        num = int(input("Enter the Data: "))
        head.insert_after_nth(num, loc)
    elif choice == 5:
        head.delete_first()
    elif choice == 6:
        head.delete_last()
    elif choice == 7:
        num = int(input("Enter the data you want to delete: "))
        head.delete_anynode(num)
    elif choice == 8:
        head.display()
    elif choice == 9:
        print("\nQuitting.....")
        break
    else:
        print("Invalid choice. Please enter the correct choice.")
        continue
